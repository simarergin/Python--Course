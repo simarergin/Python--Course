{
  "nbformat": 4,
  "nbformat_minor": 0,
  "metadata": {
    "colab": {
      "provenance": []
    },
    "kernelspec": {
      "name": "python3",
      "display_name": "Python 3"
    },
    "language_info": {
      "name": "python"
    }
  },
  "cells": [
    {
      "cell_type": "code",
      "execution_count": null,
      "metadata": {
        "id": "qSWlYLSTjOTz"
      },
      "outputs": [],
      "source": [
        "#girilen sayının pozitif, negatif veya sıfır olduğunu yazan koşul"
      ]
    },
    {
      "cell_type": "code",
      "source": [
        "sayi = int(input(\"bir sayı gir: \"))\n",
        "# print(sayi)\n",
        "\n",
        "if sayi > 0:\n",
        "  print(\"sayı pozitif\")\n",
        "elif sayi == 0:\n",
        "  print(\"sayı sıfır\")\n",
        "else:\n",
        "  print(\"sayı negatif\")\n",
        "\n"
      ],
      "metadata": {
        "colab": {
          "base_uri": "https://localhost:8080/"
        },
        "id": "rx_eMf2ykQPP",
        "outputId": "2a2a8736-2a4f-47f3-f4a7-fe0d0fa3f01e"
      },
      "execution_count": null,
      "outputs": [
        {
          "output_type": "stream",
          "name": "stdout",
          "text": [
            "bir sayı gir: -7\n",
            "sayı negatif\n"
          ]
        }
      ]
    },
    {
      "cell_type": "code",
      "source": [
        "# girilen sayının tek mi çift mi olduğunu yazan koşul"
      ],
      "metadata": {
        "id": "w7F0J-2hmEjJ"
      },
      "execution_count": null,
      "outputs": []
    },
    {
      "cell_type": "code",
      "source": [
        "sayi = int(input(\"bir sayı gir: \"))\n",
        "\n",
        "if sayi % 2 == 0:\n",
        "  print(\"sayı çift\")\n",
        "else:\n",
        "  print(\"sayı tek\")"
      ],
      "metadata": {
        "colab": {
          "base_uri": "https://localhost:8080/"
        },
        "id": "UPlne0hpmRE8",
        "outputId": "17e88577-ee05-40d1-e425-9aa8d34de479"
      },
      "execution_count": null,
      "outputs": [
        {
          "output_type": "stream",
          "name": "stdout",
          "text": [
            "bir sayı gir: 7\n",
            "sayı tek\n"
          ]
        }
      ]
    },
    {
      "cell_type": "code",
      "source": [
        "# Girilen nota göre harf aralığını yazan koşul (80-100 A, 60-80 B vs.)"
      ],
      "metadata": {
        "id": "kHtE6aA3mXGw"
      },
      "execution_count": null,
      "outputs": []
    },
    {
      "cell_type": "code",
      "source": [
        "sayi = int(input(\"not gir: \"))\n",
        "\n",
        "if sayi >= 80:\n",
        "  print(\"A\")\n",
        "elif sayi >= 60:\n",
        "  print(\"B\")\n",
        "elif sayi >= 40:\n",
        "  print(\"C\")\n",
        "elif sayi >= 20:\n",
        "  print(\"D\")\n",
        "elif sayi >= 0:\n",
        "  print(\"Kaldın\")\n"
      ],
      "metadata": {
        "colab": {
          "base_uri": "https://localhost:8080/"
        },
        "id": "GSUbp_Ufmbnn",
        "outputId": "a9db12a3-d77f-49bf-f9af-4edafbe7fb28"
      },
      "execution_count": null,
      "outputs": [
        {
          "output_type": "stream",
          "name": "stdout",
          "text": [
            "not gir: 10\n",
            "Kaldın\n"
          ]
        }
      ]
    },
    {
      "cell_type": "code",
      "source": [
        "# girilen ismin karakter sayısı 5den büyükse \"uzun bir isminiz var\" değilse ismini yazsın"
      ],
      "metadata": {
        "id": "xcbR_SXEmgKE"
      },
      "execution_count": null,
      "outputs": []
    },
    {
      "cell_type": "code",
      "source": [
        "isim = input(\"isim gir: \")\n",
        "\n",
        "if len(isim) > 5:\n",
        "  print(\"uzun bir isminiz var.\")\n",
        "else:\n",
        "  print(isim)\n"
      ],
      "metadata": {
        "colab": {
          "base_uri": "https://localhost:8080/"
        },
        "id": "Lo0LOd8qmhNC",
        "outputId": "1a9eb623-56e3-4951-eb96-aca7b49c7c6b"
      },
      "execution_count": null,
      "outputs": [
        {
          "output_type": "stream",
          "name": "stdout",
          "text": [
            "isim gir: vıggıluuu\n",
            "uzun bir isminiz var.\n"
          ]
        }
      ]
    },
    {
      "cell_type": "code",
      "source": [
        "#girilen sayının asal olup olmadığını bulan kod dizisi"
      ],
      "metadata": {
        "id": "f6KK4ocjn_Ht"
      },
      "execution_count": null,
      "outputs": []
    },
    {
      "cell_type": "code",
      "source": [
        "#for\n",
        "sayi = int(input(\"sayı giriniz: \"))\n",
        "if sayi > 1:\n",
        "\n",
        "  for i in range(2, sayi):\n",
        "    if (sayi % i) == 0:\n",
        "      print(sayi, \"asal sayı değil\")\n",
        "      break\n",
        "    else:\n",
        "      print(sayi, \"asal sayıdır.\")\n",
        "      break"
      ],
      "metadata": {
        "colab": {
          "base_uri": "https://localhost:8080/"
        },
        "id": "GV4SylKKoHbx",
        "outputId": "c3fc6dd4-c2e9-46d5-da68-46e408f3210b"
      },
      "execution_count": null,
      "outputs": [
        {
          "output_type": "stream",
          "name": "stdout",
          "text": [
            "sayı giriniz: 6\n",
            "6 asal sayı değil\n"
          ]
        }
      ]
    },
    {
      "cell_type": "code",
      "source": [
        "#while\n",
        "sayi = int(input(\"sayı giriniz: \"))\n",
        "i = 2\n",
        "\n",
        "while i < sayi:\n",
        "  if (sayi % i) == 0:\n",
        "    print(sayi, \"asal sayı değil\")\n",
        "    break\n",
        "  i += 1\n",
        "else:\n",
        "  print(sayi, \"asal sayıdır.\")"
      ],
      "metadata": {
        "colab": {
          "base_uri": "https://localhost:8080/"
        },
        "id": "PllGsxLsqyag",
        "outputId": "36051eea-69ab-4ed2-ee06-c2d9e4b72b3f"
      },
      "execution_count": null,
      "outputs": [
        {
          "output_type": "stream",
          "name": "stdout",
          "text": [
            "sayı giriniz: 6\n",
            "6 asal sayı değil\n"
          ]
        }
      ]
    },
    {
      "cell_type": "code",
      "source": [
        "#girilen sayının faktöriyelini alan döngü"
      ],
      "metadata": {
        "id": "sp9bNRhaqytz"
      },
      "execution_count": null,
      "outputs": []
    },
    {
      "cell_type": "code",
      "source": [
        "#for\n",
        "sayi = int(input(\"sayı giriniz: \"))\n",
        "faktoriyel = 1\n",
        "\n",
        "for i in range(1, sayi+1):\n",
        "  faktoriyel *= i\n",
        "\n",
        "print(faktoriyel)"
      ],
      "metadata": {
        "colab": {
          "base_uri": "https://localhost:8080/"
        },
        "id": "tsgTctWsqy10",
        "outputId": "48833039-0f68-4b94-a417-641fd7360714"
      },
      "execution_count": null,
      "outputs": [
        {
          "output_type": "stream",
          "name": "stdout",
          "text": [
            "sayı giriniz: 6\n",
            "720\n"
          ]
        }
      ]
    },
    {
      "cell_type": "code",
      "source": [
        "#while\n",
        "sayi = int(input(\"sayı giriniz: \"))\n",
        "faktoriyel = 1\n",
        "i = 1\n",
        "\n",
        "while i <= sayi:\n",
        "  faktoriyel *= i\n",
        "  i += 1\n",
        "\n",
        "print(faktoriyel)"
      ],
      "metadata": {
        "colab": {
          "base_uri": "https://localhost:8080/"
        },
        "id": "LfkDf7ZKrjp0",
        "outputId": "a833e7ef-3754-464a-f0cf-64cf64e404c2"
      },
      "execution_count": null,
      "outputs": [
        {
          "output_type": "stream",
          "name": "stdout",
          "text": [
            "sayı giriniz: 6\n",
            "720\n"
          ]
        }
      ]
    },
    {
      "cell_type": "code",
      "source": [
        "#notlar=[45,85,75,50] içinde 75 değerinin indisini yazdıran döngü"
      ],
      "metadata": {
        "id": "fS0xkltfrju_"
      },
      "execution_count": null,
      "outputs": []
    },
    {
      "cell_type": "code",
      "source": [
        "notlar=[45,85,75,50]\n",
        "\n",
        "for i in range(len(notlar)):\n",
        "  if notlar[i] == 75:\n",
        "    print(i)"
      ],
      "metadata": {
        "colab": {
          "base_uri": "https://localhost:8080/"
        },
        "id": "trZffhNssUiF",
        "outputId": "c8f0eeb7-9648-4fb7-dc60-b24f70eb9a92"
      },
      "execution_count": null,
      "outputs": [
        {
          "output_type": "stream",
          "name": "stdout",
          "text": [
            "2\n"
          ]
        }
      ]
    },
    {
      "cell_type": "code",
      "source": [
        "#kullanıcıdan pozitif bir sayı bekleyen, pozitifi de gördüğü an bastıran, negatif sayı girildikçe bir daha soran yapı (for döngüsü ile)"
      ],
      "metadata": {
        "id": "ukE7zyiEuhH4"
      },
      "execution_count": null,
      "outputs": []
    },
    {
      "cell_type": "code",
      "source": [
        "for i in range(100):\n",
        "  sayi = int(input(\"pozitif bir sayı giriniz: \"))\n",
        "  if sayi >= 0:\n",
        "    print(sayi, \"sayı pozitif\")\n",
        "    break\n",
        "  else:\n",
        "    print (sayi, \"negatif sayı girildi\")\n",
        "    sayi = int(input(\"pozitif bir sayı giriniz: \"))"
      ],
      "metadata": {
        "colab": {
          "base_uri": "https://localhost:8080/"
        },
        "id": "pkn2laaMvRda",
        "outputId": "cfb3f1bf-0ef7-4f97-f755-2b57822fa75c"
      },
      "execution_count": null,
      "outputs": [
        {
          "output_type": "stream",
          "name": "stdout",
          "text": [
            "pozitif bir sayı giriniz: -9\n",
            "-9 negatif sayı girildi\n",
            "pozitif bir sayı giriniz: -3\n",
            "pozitif bir sayı giriniz: 9\n",
            "9 sayı pozitif\n"
          ]
        }
      ]
    },
    {
      "cell_type": "code",
      "source": [
        "#fonksiyon ile girilen sayının asal olup olmadığını bulan kod dizisi"
      ],
      "metadata": {
        "id": "C1dVykkUzske"
      },
      "execution_count": null,
      "outputs": []
    },
    {
      "cell_type": "code",
      "source": [
        "#for\n",
        "\n",
        "sayilar = int(input(\"sayı giriniz: \"))\n",
        "if sayilar > 1:\n",
        "  def sayi():\n",
        "    for i in range(2, sayilar):\n",
        "      if (sayilar % i) == 0:\n",
        "        print(sayilar, \"asal sayı değil\")\n",
        "        break\n",
        "      else:\n",
        "        print(sayilar, \"asal sayıdır.\")\n",
        "        break\n",
        "  sayi()"
      ],
      "metadata": {
        "colab": {
          "base_uri": "https://localhost:8080/"
        },
        "id": "lBwnvXlr7swh",
        "outputId": "f543ceff-85d9-4b08-94f8-d976002a9df6"
      },
      "execution_count": null,
      "outputs": [
        {
          "output_type": "stream",
          "name": "stdout",
          "text": [
            "sayı giriniz: 5\n",
            "5 asal sayıdır.\n"
          ]
        }
      ]
    },
    {
      "cell_type": "code",
      "source": [
        "#while\n",
        "\n",
        "sayi = int(input(\"sayı giriniz: \"))\n",
        "\n",
        "def sayilar():\n",
        "  i = 2\n",
        "  while i < sayi:\n",
        "    if (sayi % i) == 0:\n",
        "      print(sayi, \"asal sayı değil\")\n",
        "      break\n",
        "    i += 1\n",
        "  else:\n",
        "    print(sayi, \"asal sayıdır.\")\n",
        "sayilar()"
      ],
      "metadata": {
        "colab": {
          "base_uri": "https://localhost:8080/"
        },
        "id": "uMThMYbf8SXS",
        "outputId": "9694177f-1673-4965-ce3d-464e519bd738"
      },
      "execution_count": null,
      "outputs": [
        {
          "output_type": "stream",
          "name": "stdout",
          "text": [
            "sayı giriniz: 5\n",
            "5 asal sayıdır.\n"
          ]
        }
      ]
    },
    {
      "cell_type": "code",
      "source": [
        "#fonksiyon ile girilen sayının faktöriyeli"
      ],
      "metadata": {
        "id": "_xk4HUeS9KmR"
      },
      "execution_count": null,
      "outputs": []
    },
    {
      "cell_type": "code",
      "source": [
        "#for\n",
        "\n",
        "sayi = int(input(\"sayı giriniz: \"))\n",
        "\n",
        "def faktoriyel():\n",
        "  faktoriyel = 1\n",
        "  for i in range(1, sayi+1):\n",
        "    faktoriyel *= i\n",
        "  print(faktoriyel)\n",
        "faktoriyel()"
      ],
      "metadata": {
        "colab": {
          "base_uri": "https://localhost:8080/"
        },
        "id": "fwvABkMc9RH6",
        "outputId": "6458a822-e9a1-4539-b7d1-128a1ce51197"
      },
      "execution_count": null,
      "outputs": [
        {
          "output_type": "stream",
          "name": "stdout",
          "text": [
            "sayı giriniz: 5\n",
            "120\n"
          ]
        }
      ]
    },
    {
      "cell_type": "code",
      "source": [
        "#while\n",
        "\n",
        "sayi = int(input(\"sayı giriniz: \"))\n",
        "def faktoriyel():\n",
        "  faktoriyel = 1\n",
        "  i = 1\n",
        "  while i <= sayi:\n",
        "    faktoriyel *= i\n",
        "    i += 1\n",
        "  print(faktoriyel)\n",
        "faktoriyel()"
      ],
      "metadata": {
        "colab": {
          "base_uri": "https://localhost:8080/"
        },
        "id": "ARDwSOaj9q-p",
        "outputId": "3c17d2b7-612e-4e04-c5a8-b303014533a6"
      },
      "execution_count": null,
      "outputs": [
        {
          "output_type": "stream",
          "name": "stdout",
          "text": [
            "sayı giriniz: 5\n",
            "120\n"
          ]
        }
      ]
    }
  ]
}