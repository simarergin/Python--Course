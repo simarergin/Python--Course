{
 "cells": [
  {
   "cell_type": "code",
   "execution_count": 1,
   "id": "01b76840-2e03-405a-bad6-1018232bc322",
   "metadata": {},
   "outputs": [],
   "source": [
    "import pandas as pd"
   ]
  },
  {
   "cell_type": "code",
   "execution_count": 2,
   "id": "ff10dbc0-2df7-49af-837a-e435b822405f",
   "metadata": {},
   "outputs": [
    {
     "data": {
      "text/html": [
       "<div>\n",
       "<style scoped>\n",
       "    .dataframe tbody tr th:only-of-type {\n",
       "        vertical-align: middle;\n",
       "    }\n",
       "\n",
       "    .dataframe tbody tr th {\n",
       "        vertical-align: top;\n",
       "    }\n",
       "\n",
       "    .dataframe thead th {\n",
       "        text-align: right;\n",
       "    }\n",
       "</style>\n",
       "<table border=\"1\" class=\"dataframe\">\n",
       "  <thead>\n",
       "    <tr style=\"text-align: right;\">\n",
       "      <th></th>\n",
       "      <th>PassengerId</th>\n",
       "      <th>Survived</th>\n",
       "      <th>Pclass</th>\n",
       "      <th>Name</th>\n",
       "      <th>Sex</th>\n",
       "      <th>Age</th>\n",
       "      <th>SibSp</th>\n",
       "      <th>Parch</th>\n",
       "      <th>Ticket</th>\n",
       "      <th>Fare</th>\n",
       "      <th>Cabin</th>\n",
       "      <th>Embarked</th>\n",
       "    </tr>\n",
       "  </thead>\n",
       "  <tbody>\n",
       "    <tr>\n",
       "      <th>0</th>\n",
       "      <td>1</td>\n",
       "      <td>0</td>\n",
       "      <td>3</td>\n",
       "      <td>Braund, Mr. Owen Harris</td>\n",
       "      <td>male</td>\n",
       "      <td>22.0</td>\n",
       "      <td>1</td>\n",
       "      <td>0</td>\n",
       "      <td>A/5 21171</td>\n",
       "      <td>7.2500</td>\n",
       "      <td>NaN</td>\n",
       "      <td>S</td>\n",
       "    </tr>\n",
       "    <tr>\n",
       "      <th>1</th>\n",
       "      <td>2</td>\n",
       "      <td>1</td>\n",
       "      <td>1</td>\n",
       "      <td>Cumings, Mrs. John Bradley (Florence Briggs Th...</td>\n",
       "      <td>female</td>\n",
       "      <td>38.0</td>\n",
       "      <td>1</td>\n",
       "      <td>0</td>\n",
       "      <td>PC 17599</td>\n",
       "      <td>71.2833</td>\n",
       "      <td>C85</td>\n",
       "      <td>C</td>\n",
       "    </tr>\n",
       "    <tr>\n",
       "      <th>2</th>\n",
       "      <td>3</td>\n",
       "      <td>1</td>\n",
       "      <td>3</td>\n",
       "      <td>Heikkinen, Miss. Laina</td>\n",
       "      <td>female</td>\n",
       "      <td>26.0</td>\n",
       "      <td>0</td>\n",
       "      <td>0</td>\n",
       "      <td>STON/O2. 3101282</td>\n",
       "      <td>7.9250</td>\n",
       "      <td>NaN</td>\n",
       "      <td>S</td>\n",
       "    </tr>\n",
       "    <tr>\n",
       "      <th>3</th>\n",
       "      <td>4</td>\n",
       "      <td>1</td>\n",
       "      <td>1</td>\n",
       "      <td>Futrelle, Mrs. Jacques Heath (Lily May Peel)</td>\n",
       "      <td>female</td>\n",
       "      <td>35.0</td>\n",
       "      <td>1</td>\n",
       "      <td>0</td>\n",
       "      <td>113803</td>\n",
       "      <td>53.1000</td>\n",
       "      <td>C123</td>\n",
       "      <td>S</td>\n",
       "    </tr>\n",
       "    <tr>\n",
       "      <th>4</th>\n",
       "      <td>5</td>\n",
       "      <td>0</td>\n",
       "      <td>3</td>\n",
       "      <td>Allen, Mr. William Henry</td>\n",
       "      <td>male</td>\n",
       "      <td>35.0</td>\n",
       "      <td>0</td>\n",
       "      <td>0</td>\n",
       "      <td>373450</td>\n",
       "      <td>8.0500</td>\n",
       "      <td>NaN</td>\n",
       "      <td>S</td>\n",
       "    </tr>\n",
       "  </tbody>\n",
       "</table>\n",
       "</div>"
      ],
      "text/plain": [
       "   PassengerId  Survived  Pclass  \\\n",
       "0            1         0       3   \n",
       "1            2         1       1   \n",
       "2            3         1       3   \n",
       "3            4         1       1   \n",
       "4            5         0       3   \n",
       "\n",
       "                                                Name     Sex   Age  SibSp  \\\n",
       "0                            Braund, Mr. Owen Harris    male  22.0      1   \n",
       "1  Cumings, Mrs. John Bradley (Florence Briggs Th...  female  38.0      1   \n",
       "2                             Heikkinen, Miss. Laina  female  26.0      0   \n",
       "3       Futrelle, Mrs. Jacques Heath (Lily May Peel)  female  35.0      1   \n",
       "4                           Allen, Mr. William Henry    male  35.0      0   \n",
       "\n",
       "   Parch            Ticket     Fare Cabin Embarked  \n",
       "0      0         A/5 21171   7.2500   NaN        S  \n",
       "1      0          PC 17599  71.2833   C85        C  \n",
       "2      0  STON/O2. 3101282   7.9250   NaN        S  \n",
       "3      0            113803  53.1000  C123        S  \n",
       "4      0            373450   8.0500   NaN        S  "
      ]
     },
     "execution_count": 2,
     "metadata": {},
     "output_type": "execute_result"
    }
   ],
   "source": [
    "Titanic_dataset = pd.read_csv(\"Titanic_dataset.csv\")\n",
    "Titanic_dataset.head()"
   ]
  },
  {
   "cell_type": "code",
   "execution_count": 45,
   "id": "a635d48a-96f0-4360-b6f4-66a117818681",
   "metadata": {},
   "outputs": [
    {
     "name": "stdout",
     "output_type": "stream",
     "text": [
      "Ölen Yaş Oratalama: 30.62617924528302\n"
     ]
    }
   ],
   "source": [
    "#Kazada ölenlerin yaş ortalamasını bulunuz\n",
    "\n",
    "print(\"Ölen Yaş Oratalama:\", Titanic_dataset[Titanic_dataset[\"Survived\"] == 0][\"Age\"].mean())"
   ]
  },
  {
   "cell_type": "code",
   "execution_count": 35,
   "id": "6972703e-5d24-4741-84f7-dc4ac019168b",
   "metadata": {},
   "outputs": [
    {
     "name": "stdout",
     "output_type": "stream",
     "text": [
      "Bilet Fiyatları Ortalama: 22.117886885245902\n",
      "Bilet Fiyatları Medyanı: 10.5\n"
     ]
    }
   ],
   "source": [
    "#Kazada ölenlerin bilet fiyatlarının ortalamasını ve medyanını bulunuz\n",
    "\n",
    "#ortalama\n",
    "print(\"Bilet Fiyatları Ortalama:\", Titanic_dataset[Titanic_dataset[\"Survived\"] == 0][\"Fare\"].mean())\n",
    "\n",
    "#medyanı\n",
    "print(\"Bilet Fiyatları Medyanı:\", Titanic_dataset[Titanic_dataset[\"Survived\"] == 0][\"Fare\"].median())"
   ]
  },
  {
   "cell_type": "code",
   "execution_count": 46,
   "id": "245f7e35-0996-43ce-a998-e151e4f4bd84",
   "metadata": {},
   "outputs": [
    {
     "name": "stdout",
     "output_type": "stream",
     "text": [
      "Ölen Erkek Yaş Ortalama: 31.618055555555557\n"
     ]
    }
   ],
   "source": [
    "#Kazada ölen erkeklerin yaş ortalamasını bulunuz\n",
    "\n",
    "print(\"Ölen Erkek Yaş Ortalama:\", Titanic_dataset[(Titanic_dataset[\"Survived\"] == 0) & (Titanic_dataset[\"Sex\"] == \"male\")][\"Age\"].mean())"
   ]
  },
  {
   "cell_type": "code",
   "execution_count": 47,
   "id": "3d8cc533-7898-40e5-b467-451f9aa0a2bb",
   "metadata": {},
   "outputs": [
    {
     "name": "stdout",
     "output_type": "stream",
     "text": [
      "Ölen Kadın Yaş Ortalama: 25.046875\n"
     ]
    }
   ],
   "source": [
    "#Kazada ölen Kadınların yaş ortalamasını bulunuz\n",
    "\n",
    "print(\"Ölen Kadın Yaş Ortalama:\", Titanic_dataset[(Titanic_dataset[\"Survived\"] == 0) & (Titanic_dataset[\"Sex\"] == \"female\")][\"Age\"].mean())"
   ]
  },
  {
   "cell_type": "code",
   "execution_count": 48,
   "id": "2c7e1129-5c0d-4d09-945d-8653c74951e3",
   "metadata": {},
   "outputs": [
    {
     "name": "stdout",
     "output_type": "stream",
     "text": [
      "Kurtulan Yaş Oratalama: 28.343689655172415\n"
     ]
    }
   ],
   "source": [
    "#Kazadan kurtulanların yaş ortalamasını bulunuz\n",
    "\n",
    "print(\"Kurtulan Yaş Oratalama:\", Titanic_dataset[Titanic_dataset[\"Survived\"] == 1][\"Age\"].mean())"
   ]
  },
  {
   "cell_type": "code",
   "execution_count": 49,
   "id": "8223c38d-457a-480a-8890-90d3a395a8fa",
   "metadata": {},
   "outputs": [
    {
     "name": "stdout",
     "output_type": "stream",
     "text": [
      "Bilet Fiyatları Ortalama: 48.39540760233918\n"
     ]
    }
   ],
   "source": [
    "#Kazadan kurtulanların bilet fiyatlarının ortalamasını bulunuz\n",
    "\n",
    "print(\"Bilet Fiyatları Ortalama:\", Titanic_dataset[Titanic_dataset[\"Survived\"] == 1][\"Fare\"].mean())"
   ]
  },
  {
   "cell_type": "code",
   "execution_count": 62,
   "id": "2bdba40a-3b82-4bf6-8ebf-63681eeee9ea",
   "metadata": {},
   "outputs": [
    {
     "name": "stdout",
     "output_type": "stream",
     "text": [
      "Kurtulan Sayısı: 342\n"
     ]
    }
   ],
   "source": [
    "#Kazadan kurtulan toplam kişi sayısını bulunuz\n",
    "\n",
    "print(\"Kurtulan Sayısı:\", Titanic_dataset[Titanic_dataset[\"Survived\"] == 1][\"Survived\"].count())"
   ]
  },
  {
   "cell_type": "code",
   "execution_count": 66,
   "id": "4f84bd16-b73b-4949-97c8-e3fc19df4a26",
   "metadata": {},
   "outputs": [
    {
     "name": "stdout",
     "output_type": "stream",
     "text": [
      "10 Yaşından Küçük Bilet Fiyatı Medyanı: 27.0\n"
     ]
    }
   ],
   "source": [
    "#10 yaşından küçüklerin bilet fiyatlarının medyan değerini bulunuz\n",
    "\n",
    "print(\"10 Yaşından Küçük Bilet Fiyatı Medyanı:\", Titanic_dataset[Titanic_dataset[\"Age\"] < 10][\"Fare\"].median())"
   ]
  },
  {
   "cell_type": "code",
   "execution_count": 71,
   "id": "ca7339e6-cb1c-4b04-a6b1-a46d1645277d",
   "metadata": {},
   "outputs": [
    {
     "name": "stdout",
     "output_type": "stream",
     "text": [
      "1.Sınıf Bilet Fiyatları Ortalama: 84.1546875\n",
      "2.Sınıf Bilet Fiyatları Ortalama: 20.662183152173913\n",
      "3.Sınıf Bilet Fiyatları Ortalama: 13.675550101832993\n",
      "1.Sınıf Bilet Fiyatları Medyanı: 60.287499999999994\n",
      "2.Sınıf Bilet Fiyatları Medyanı: 14.25\n",
      "3.Sınıf Bilet Fiyatları Medyanı: 8.05\n"
     ]
    }
   ],
   "source": [
    "#1.sınıf, 2.sınıf ve 3.sınıf bilet fiyatlarının ortalama ve medyanlarını karşılaştırınız. (Pclass değişkeni sınıfları barındırmaktadır.)\n",
    "\n",
    "#ortalama\n",
    "print(\"1.Sınıf Bilet Fiyatları Ortalama:\", Titanic_dataset[Titanic_dataset[\"Pclass\"] ==1][\"Fare\"].mean())\n",
    "print(\"2.Sınıf Bilet Fiyatları Ortalama:\", Titanic_dataset[Titanic_dataset[\"Pclass\"] ==2][\"Fare\"].mean())\n",
    "print(\"3.Sınıf Bilet Fiyatları Ortalama:\", Titanic_dataset[Titanic_dataset[\"Pclass\"] ==3][\"Fare\"].mean())\n",
    "\n",
    "#medyanı\n",
    "print(\"1.Sınıf Bilet Fiyatları Medyanı:\", Titanic_dataset[Titanic_dataset[\"Pclass\"] ==1][\"Fare\"].median())\n",
    "print(\"2.Sınıf Bilet Fiyatları Medyanı:\", Titanic_dataset[Titanic_dataset[\"Pclass\"] ==2][\"Fare\"].median())\n",
    "print(\"3.Sınıf Bilet Fiyatları Medyanı:\", Titanic_dataset[Titanic_dataset[\"Pclass\"] ==3][\"Fare\"].median())"
   ]
  },
  {
   "cell_type": "code",
   "execution_count": 87,
   "id": "b4be3c90-2080-41cb-8420-da1123e2dde3",
   "metadata": {},
   "outputs": [
    {
     "name": "stdout",
     "output_type": "stream",
     "text": [
      "Ölen Kadın Oranı: 0.25796178343949044\n",
      "Ölen Erkek Oranı: 0.8110918544194108\n",
      "Toplam Oran: 0.31804262616364526\n"
     ]
    }
   ],
   "source": [
    "#Kazada ölen kadınların oranı ile erkeklerin oranını karşılaştırınız. (Örnek: erkekler için; ölen erkeklerin, erkek sayısına bölümü bu oranı vermektedir.\n",
    "\n",
    "# Ölen kadınların sayısı\n",
    "ölen_kadin = len(Titanic_dataset[(Titanic_dataset[\"Survived\"] == 0) & (Titanic_dataset[\"Sex\"] == \"female\")])\n",
    "toplam_kadin = len(Titanic_dataset[Titanic_dataset[\"Sex\"] == \"female\"])\n",
    "ölen_kadin_oran = ölen_kadin / toplam_kadin\n",
    "\n",
    "\n",
    "#Ölen erkeklerin sayısı\n",
    "ölen_erkek = len(Titanic_dataset[(Titanic_dataset[\"Survived\"] == 0) & (Titanic_dataset[\"Sex\"] == \"male\")])\n",
    "toplam_erkek = len(Titanic_dataset[Titanic_dataset[\"Sex\"] == \"male\"])\n",
    "ölen_erkek_oran = ölen_erkek / toplam_erkek\n",
    "\n",
    "toplam_oran = ölen_kadin_oran / ölen_erkek_oran\n",
    "\n",
    "print(f\"Ölen Kadın Oranı: {ölen_kadin_oran}\")\n",
    "print(f\"Ölen Erkek Oranı: {ölen_erkek_oran}\")\n",
    "print(f\"Toplam Oran: {toplam_oran}\")\n",
    "\n"
   ]
  },
  {
   "cell_type": "code",
   "execution_count": null,
   "id": "f936d2a0-32e0-4578-a8fa-04dd16348dfc",
   "metadata": {},
   "outputs": [],
   "source": []
  }
 ],
 "metadata": {
  "kernelspec": {
   "display_name": "Python 3 (ipykernel)",
   "language": "python",
   "name": "python3"
  },
  "language_info": {
   "codemirror_mode": {
    "name": "ipython",
    "version": 3
   },
   "file_extension": ".py",
   "mimetype": "text/x-python",
   "name": "python",
   "nbconvert_exporter": "python",
   "pygments_lexer": "ipython3",
   "version": "3.13.3"
  }
 },
 "nbformat": 4,
 "nbformat_minor": 5
}
